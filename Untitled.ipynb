{
 "cells": [
  {
   "cell_type": "code",
   "execution_count": 1,
   "id": "56c52d6a-3b63-4db2-a75d-f8eb833d677f",
   "metadata": {},
   "outputs": [
    {
     "name": "stdout",
     "output_type": "stream",
     "text": [
      "Requirement already satisfied: spotipy in c:\\users\\dell\\appdata\\local\\programs\\python\\python311\\lib\\site-packages (2.23.0)\n",
      "Requirement already satisfied: redis>=3.5.3 in c:\\users\\dell\\appdata\\local\\programs\\python\\python311\\lib\\site-packages (from spotipy) (5.0.3)\n",
      "Requirement already satisfied: requests>=2.25.0 in c:\\users\\dell\\appdata\\local\\programs\\python\\python311\\lib\\site-packages (from spotipy) (2.31.0)\n",
      "Requirement already satisfied: six>=1.15.0 in c:\\users\\dell\\appdata\\local\\programs\\python\\python311\\lib\\site-packages (from spotipy) (1.16.0)\n",
      "Requirement already satisfied: urllib3>=1.26.0 in c:\\users\\dell\\appdata\\local\\programs\\python\\python311\\lib\\site-packages (from spotipy) (1.26.18)\n",
      "Requirement already satisfied: charset-normalizer<4,>=2 in c:\\users\\dell\\appdata\\local\\programs\\python\\python311\\lib\\site-packages (from requests>=2.25.0->spotipy) (3.3.2)\n",
      "Requirement already satisfied: idna<4,>=2.5 in c:\\users\\dell\\appdata\\local\\programs\\python\\python311\\lib\\site-packages (from requests>=2.25.0->spotipy) (3.6)\n",
      "Requirement already satisfied: certifi>=2017.4.17 in c:\\users\\dell\\appdata\\local\\programs\\python\\python311\\lib\\site-packages (from requests>=2.25.0->spotipy) (2024.2.2)\n",
      "Note: you may need to restart the kernel to use updated packages.\n"
     ]
    },
    {
     "name": "stderr",
     "output_type": "stream",
     "text": [
      "\n",
      "[notice] A new release of pip is available: 23.1.2 -> 24.0\n",
      "[notice] To update, run: python.exe -m pip install --upgrade pip\n"
     ]
    }
   ],
   "source": [
    "pip install spotipy"
   ]
  },
  {
   "cell_type": "code",
   "execution_count": 153,
   "id": "612ae2d5-aa09-4842-b529-89e240e31b68",
   "metadata": {},
   "outputs": [],
   "source": [
    "import spotipy\n",
    "from spotipy.oauth2 import SpotifyClientCredentials\n",
    "\n",
    "import pandas as pd"
   ]
  },
  {
   "cell_type": "code",
   "execution_count": 154,
   "id": "e6c30c5b-8de2-4996-b78c-046c57c6b5e1",
   "metadata": {},
   "outputs": [],
   "source": [
    "client_credentials_manager = SpotifyClientCredentials(client_id=\"b66ca31cb5d84055a7e3332782abbcca\",client_secret=\"7a07fe18473c481dbafef59b48b34bad\")"
   ]
  },
  {
   "cell_type": "code",
   "execution_count": 155,
   "id": "8b3cdaf7-75a8-4778-b2d7-c737bc806ec1",
   "metadata": {},
   "outputs": [],
   "source": [
    "sp = spotipy.Spotify(auth_manager=client_credentials_manager)"
   ]
  },
  {
   "cell_type": "code",
   "execution_count": 156,
   "id": "b23ab7ed-66eb-47d4-958d-f1a1bde5321c",
   "metadata": {},
   "outputs": [],
   "source": [
    "playlist_link = \"https://open.spotify.com/playlist/37i9dQZF1E4xbQTqrxlwY2\""
   ]
  },
  {
   "cell_type": "markdown",
   "id": "bde5ccb6-60f9-463b-bd7d-4b60e69e47ba",
   "metadata": {},
   "source": [
    "Data Extraction\n"
   ]
  },
  {
   "cell_type": "code",
   "execution_count": 157,
   "id": "db7d09db-a65a-4bdf-82f3-81a4f6771038",
   "metadata": {},
   "outputs": [],
   "source": [
    "def get_data_raw():\n",
    "    playlist_uri = playlist_link.split(\"/\")[-1]\n",
    "    data = sp.playlist_tracks(playlist_uri)\n",
    "    return  data"
   ]
  },
  {
   "cell_type": "code",
   "execution_count": 158,
   "id": "1146d516-3906-460f-9c90-077fd97191cd",
   "metadata": {},
   "outputs": [],
   "source": [
    "def get_album_elements():\n",
    "    get_data_raw()\n",
    "\n",
    "    album_ids  = []\n",
    "    album_name = []\n",
    "    release_date = []\n",
    "    total_tracks = []\n",
    "    external_urls = []\n",
    "\n",
    "    for i in range(len(data['items'])):\n",
    "        album_ids.append(data['items'][i]['track']['album']['id'])\n",
    "        album_name.append(data['items'][i]['track']['album']['name'])\n",
    "        release_date.append(data['items'][i]['track']['album']['release_date'])\n",
    "        total_tracks.append(data['items'][i]['track']['album']['total_tracks'])\n",
    "        external_urls.append(data['items'][i]['track']['album']['external_urls']['spotify'])\n",
    "        album_element = {'album_id':album_ids,'name':album_name,'release_date':release_date,\n",
    "                         'total_tracks':total_tracks,'external_urls':external_urls}\n",
    "    return album_element\n",
    "        \n"
   ]
  },
  {
   "cell_type": "code",
   "execution_count": 159,
   "id": "246b87ca-47fb-4d9a-b455-7043e12d2ad1",
   "metadata": {},
   "outputs": [],
   "source": [
    "def get_artist_elements():\n",
    "    get_data_raw()\n",
    "\n",
    "    artist_list = []\n",
    "\n",
    "    for row in data['items']:\n",
    "        for key,value in  row.items():\n",
    "            if  key=='track':\n",
    "                for artist  in  value['artists']:\n",
    "                    artist_dict = {'artist_id':artist['id'],'artist_name':artist['name'],\n",
    "                                   'external_id':artist['href']\n",
    "                                  }\n",
    "                    artist_list.append(artist_dict)\n",
    "                \n",
    "    return artist_list"
   ]
  },
  {
   "cell_type": "code",
   "execution_count": 160,
   "id": "e310794a-ef76-4d20-b7c9-836a4e9e13a4",
   "metadata": {},
   "outputs": [],
   "source": [
    "def get_song_elements():\n",
    "    get_data_raw()\n",
    "\n",
    "    song_list = []\n",
    "    for row in data['items']:\n",
    "        song_id  =  row['track']['id']\n",
    "        song_name = row['track']['name']\n",
    "        song_duration = row['track']['duration_ms']\n",
    "        song_url = row['track']['external_urls']['spotify']\n",
    "        song_popularity = row['track']['popularity']\n",
    "        song_added = row['added_at']\n",
    "        album_id  = row['track']['album']['id']\n",
    "        artist_id =  row['track']['album']['artists'][0]['id']\n",
    "        song_element = {'song_id':song_id,'song_name':song_name,'song_duration':song_duration,\n",
    "                        'song_url':song_url,'song_popularity':song_popularity,'song_added':song_added,\n",
    "                        'album_id':album_id,'artist_id':artist_id\n",
    "                       }\n",
    "        song_list.append(song_element)\n",
    "    return song_list"
   ]
  },
  {
   "cell_type": "code",
   "execution_count": 161,
   "id": "c0bb214f-9357-467c-9f6a-a079c0040c7f",
   "metadata": {},
   "outputs": [],
   "source": [
    "album_df = pd.DataFrame(get_album_elements())"
   ]
  },
  {
   "cell_type": "code",
   "execution_count": 163,
   "id": "a7703f67-6cdf-4939-9fe7-733642bd7e15",
   "metadata": {},
   "outputs": [],
   "source": [
    "artist_df = pd.DataFrame(get_artist_elements())"
   ]
  },
  {
   "cell_type": "code",
   "execution_count": 164,
   "id": "5e7274b6-ecec-457e-a37e-edcf372aea91",
   "metadata": {},
   "outputs": [],
   "source": [
    "song_df = pd.DataFrame(get_song_elements())"
   ]
  },
  {
   "cell_type": "markdown",
   "id": "000c5109-3532-4002-98c3-69195266a61e",
   "metadata": {},
   "source": [
    "Transformation"
   ]
  },
  {
   "cell_type": "code",
   "execution_count": 188,
   "id": "3f2bb9f0-91df-4cfe-8876-a639ab00c8cd",
   "metadata": {},
   "outputs": [],
   "source": [
    "album_df = album_df.drop_duplicates(subset=['album_id'])\n",
    "artist_df = artist_df.drop_duplicates(subset=['artist_id'])\n",
    "song_df = song_df.drop_duplicates(subset=['song_id'])"
   ]
  },
  {
   "cell_type": "code",
   "execution_count": 193,
   "id": "08f8992f-15f7-4736-97d1-7d3e24c2fe3c",
   "metadata": {},
   "outputs": [],
   "source": [
    "album_df['release_date'] = pd.to_datetime(album_df['release_date'],format='mixed')\n",
    "song_df['song_added'] = pd.to_datetime(song_df['song_added'])"
   ]
  },
  {
   "cell_type": "code",
   "execution_count": 194,
   "id": "f9fc9cce-4697-4f59-b1a3-999a45f89561",
   "metadata": {},
   "outputs": [
    {
     "name": "stdout",
     "output_type": "stream",
     "text": [
      "<class 'pandas.core.frame.DataFrame'>\n",
      "RangeIndex: 50 entries, 0 to 49\n",
      "Data columns (total 8 columns):\n",
      " #   Column           Non-Null Count  Dtype              \n",
      "---  ------           --------------  -----              \n",
      " 0   song_id          50 non-null     object             \n",
      " 1   song_name        50 non-null     object             \n",
      " 2   song_duration    50 non-null     int64              \n",
      " 3   song_url         50 non-null     object             \n",
      " 4   song_popularity  50 non-null     int64              \n",
      " 5   song_added       50 non-null     datetime64[ns, UTC]\n",
      " 6   album_id         50 non-null     object             \n",
      " 7   artist_id        50 non-null     object             \n",
      "dtypes: datetime64[ns, UTC](1), int64(2), object(5)\n",
      "memory usage: 3.3+ KB\n"
     ]
    }
   ],
   "source": [
    "song_df.info()"
   ]
  },
  {
   "cell_type": "code",
   "execution_count": null,
   "id": "b398e189-aa3f-4c60-86e8-3336ca683bf0",
   "metadata": {},
   "outputs": [],
   "source": []
  }
 ],
 "metadata": {
  "kernelspec": {
   "display_name": "Python 3 (ipykernel)",
   "language": "python",
   "name": "python3"
  },
  "language_info": {
   "codemirror_mode": {
    "name": "ipython",
    "version": 3
   },
   "file_extension": ".py",
   "mimetype": "text/x-python",
   "name": "python",
   "nbconvert_exporter": "python",
   "pygments_lexer": "ipython3",
   "version": "3.11.4"
  }
 },
 "nbformat": 4,
 "nbformat_minor": 5
}
