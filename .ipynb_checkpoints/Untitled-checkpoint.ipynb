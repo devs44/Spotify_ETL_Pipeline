{
 "cells": [
  {
   "cell_type": "code",
   "execution_count": 1,
   "id": "56c52d6a-3b63-4db2-a75d-f8eb833d677f",
   "metadata": {},
   "outputs": [
    {
     "name": "stdout",
     "output_type": "stream",
     "text": [
      "Requirement already satisfied: spotipy in c:\\users\\dell\\appdata\\local\\programs\\python\\python311\\lib\\site-packages (2.23.0)\n",
      "Requirement already satisfied: redis>=3.5.3 in c:\\users\\dell\\appdata\\local\\programs\\python\\python311\\lib\\site-packages (from spotipy) (5.0.3)\n",
      "Requirement already satisfied: requests>=2.25.0 in c:\\users\\dell\\appdata\\local\\programs\\python\\python311\\lib\\site-packages (from spotipy) (2.31.0)\n",
      "Requirement already satisfied: six>=1.15.0 in c:\\users\\dell\\appdata\\local\\programs\\python\\python311\\lib\\site-packages (from spotipy) (1.16.0)\n",
      "Requirement already satisfied: urllib3>=1.26.0 in c:\\users\\dell\\appdata\\local\\programs\\python\\python311\\lib\\site-packages (from spotipy) (1.26.18)\n",
      "Requirement already satisfied: charset-normalizer<4,>=2 in c:\\users\\dell\\appdata\\local\\programs\\python\\python311\\lib\\site-packages (from requests>=2.25.0->spotipy) (3.3.2)\n",
      "Requirement already satisfied: idna<4,>=2.5 in c:\\users\\dell\\appdata\\local\\programs\\python\\python311\\lib\\site-packages (from requests>=2.25.0->spotipy) (3.6)\n",
      "Requirement already satisfied: certifi>=2017.4.17 in c:\\users\\dell\\appdata\\local\\programs\\python\\python311\\lib\\site-packages (from requests>=2.25.0->spotipy) (2024.2.2)\n",
      "Note: you may need to restart the kernel to use updated packages.\n"
     ]
    },
    {
     "name": "stderr",
     "output_type": "stream",
     "text": [
      "\n",
      "[notice] A new release of pip is available: 23.1.2 -> 24.0\n",
      "[notice] To update, run: python.exe -m pip install --upgrade pip\n"
     ]
    }
   ],
   "source": [
    "pip install spotipy"
   ]
  },
  {
   "cell_type": "code",
   "execution_count": 47,
   "id": "612ae2d5-aa09-4842-b529-89e240e31b68",
   "metadata": {},
   "outputs": [],
   "source": [
    "import spotipy\n",
    "from spotipy.oauth2 import SpotifyClientCredentials"
   ]
  },
  {
   "cell_type": "code",
   "execution_count": 48,
   "id": "e6c30c5b-8de2-4996-b78c-046c57c6b5e1",
   "metadata": {},
   "outputs": [],
   "source": [
    "client_credentials_manager = SpotifyClientCredentials(client_id=\"b66ca31cb5d84055a7e3332782abbcca\",client_secret=\"7a07fe18473c481dbafef59b48b34bad\")"
   ]
  },
  {
   "cell_type": "code",
   "execution_count": 49,
   "id": "8b3cdaf7-75a8-4778-b2d7-c737bc806ec1",
   "metadata": {},
   "outputs": [],
   "source": [
    "sp = spotipy.Spotify(auth_manager=client_credentials_manager)"
   ]
  },
  {
   "cell_type": "code",
   "execution_count": 55,
   "id": "b23ab7ed-66eb-47d4-958d-f1a1bde5321c",
   "metadata": {},
   "outputs": [],
   "source": [
    "playlist_link = \"https://open.spotify.com/playlist/37i9dQZF1E4xbQTqrxlwY2\""
   ]
  },
  {
   "cell_type": "code",
   "execution_count": 80,
   "id": "db7d09db-a65a-4bdf-82f3-81a4f6771038",
   "metadata": {},
   "outputs": [],
   "source": [
    "def get_data_raw():\n",
    "    playlist_uri = playlist_link.split(\"/\")[-1]\n",
    "    data = sp.playlist_tracks(playlist_uri)\n",
    "    return  data"
   ]
  },
  {
   "cell_type": "code",
   "execution_count": 108,
   "id": "1146d516-3906-460f-9c90-077fd97191cd",
   "metadata": {},
   "outputs": [],
   "source": [
    "def get_album_elements():\n",
    "    get_data_raw()\n",
    "\n",
    "    album_ids  = []\n",
    "    album_name = []\n",
    "    release_date = []\n",
    "    total_tracks = []\n",
    "    external_urls = []\n",
    "\n",
    "    for i in range(len(data['items'])):\n",
    "        album_ids.append(data['items'][i]['track']['album']['id'])\n",
    "        album_name.append(data['items'][i]['track']['album']['name'])\n",
    "        release_date.append(data['items'][i]['track']['album']['release_date'])\n",
    "        total_tracks.append(data['items'][i]['track']['album']['total_tracks'])\n",
    "        external_urls.append(data['items'][i]['track']['album']['external_urls']['spotify'])\n",
    "        album_element = {'album_id':album_ids,'name':album_name}\n",
    "    return album_element\n",
    "        \n"
   ]
  },
  {
   "cell_type": "code",
   "execution_count": 109,
   "id": "246b87ca-47fb-4d9a-b455-7043e12d2ad1",
   "metadata": {},
   "outputs": [
    {
     "data": {
      "text/plain": [
       "{'album_id': ['7dZ49XnPBaF4e6SMYmsNQ1'],\n",
       " 'name': ['The Best - Reminiscent 10th Anniversary']}"
      ]
     },
     "execution_count": 109,
     "metadata": {},
     "output_type": "execute_result"
    }
   ],
   "source": [
    "get_album_elements()"
   ]
  },
  {
   "cell_type": "code",
   "execution_count": 98,
   "id": "a7703f67-6cdf-4939-9fe7-733642bd7e15",
   "metadata": {},
   "outputs": [],
   "source": []
  },
  {
   "cell_type": "code",
   "execution_count": 103,
   "id": "5e7274b6-ecec-457e-a37e-edcf372aea91",
   "metadata": {},
   "outputs": [],
   "source": []
  },
  {
   "cell_type": "code",
   "execution_count": 105,
   "id": "3f2bb9f0-91df-4cfe-8876-a639ab00c8cd",
   "metadata": {},
   "outputs": [],
   "source": []
  },
  {
   "cell_type": "code",
   "execution_count": null,
   "id": "08f8992f-15f7-4736-97d1-7d3e24c2fe3c",
   "metadata": {},
   "outputs": [],
   "source": []
  },
  {
   "cell_type": "code",
   "execution_count": null,
   "id": "f9fc9cce-4697-4f59-b1a3-999a45f89561",
   "metadata": {},
   "outputs": [],
   "source": []
  }
 ],
 "metadata": {
  "kernelspec": {
   "display_name": "Python 3 (ipykernel)",
   "language": "python",
   "name": "python3"
  },
  "language_info": {
   "codemirror_mode": {
    "name": "ipython",
    "version": 3
   },
   "file_extension": ".py",
   "mimetype": "text/x-python",
   "name": "python",
   "nbconvert_exporter": "python",
   "pygments_lexer": "ipython3",
   "version": "3.11.4"
  }
 },
 "nbformat": 4,
 "nbformat_minor": 5
}
